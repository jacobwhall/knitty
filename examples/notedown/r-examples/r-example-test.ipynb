{
 "cells": [
  {
   "cell_type": "code",
   "execution_count": null,
   "metadata": {},
   "outputs": [],
   "source": [
    "%load_ext rpy2.ipython"
   ]
  },
  {
   "cell_type": "markdown",
   "metadata": {},
   "source": [
    "## Introduction to ggplot2\n",
    "\n",
    "This is a short demo on how to convert an R Markdown Notebook into an IPython Notebook using knitr and notedown.\n",
    "\n",
    "Adding a Python Chunk"
   ]
  },
  {
   "cell_type": "code",
   "execution_count": null,
   "metadata": {
    "attributes": {
     "classes": [
      "python"
     ],
     "id": ""
    }
   },
   "outputs": [],
   "source": [
    "def f(x):\n",
    "  return x + 2\n",
    "f(2)"
   ]
  },
  {
   "cell_type": "markdown",
   "metadata": {},
   "source": [
    "This is an introduction to [ggplot2](http://github.com/hadley/ggplot2). You can view the source as an R Markdown document, if you are using an IDE like RStudio, or as an IPython notebook, thanks to [notedown](https://github.com/kiwi0fruit/knitty).\n",
    "\n",
    "We need to first make sure that we have `ggplot2` and its dependencies installed, using the `install.packages` function.\n",
    "\n",
    "Now that we have it installed, we can get started by loading it into our workspace"
   ]
  },
  {
   "cell_type": "code",
   "execution_count": null,
   "metadata": {
    "attributes": {
     "classes": [
      "r"
     ],
     "id": ""
    }
   },
   "outputs": [],
   "source": [
    "%%R\n",
    "library(ggplot2)"
   ]
  },
  {
   "cell_type": "markdown",
   "metadata": {},
   "source": [
    "We are now fully set to try and create some amazing plots. \n",
    "\n",
    "#### Data\n",
    "\n",
    "We will use the ubiqutous [iris](http://stat.ethz.ch/R-manual/R-patched/library/datasets/html/iris.html) dataset."
   ]
  },
  {
   "cell_type": "code",
   "execution_count": null,
   "metadata": {
    "attributes": {
     "classes": [
      "r"
     ],
     "id": ""
    }
   },
   "outputs": [],
   "source": [
    "%%R\n",
    "head(iris)"
   ]
  },
  {
   "cell_type": "markdown",
   "metadata": {},
   "source": [
    "#### Simple Plot\n",
    "\n",
    "Let us create a simple scatterplot of `Sepal.Length` with `Petal.Length`."
   ]
  },
  {
   "cell_type": "code",
   "execution_count": null,
   "metadata": {
    "attributes": {
     "classes": [
      "r"
     ],
     "id": ""
    }
   },
   "outputs": [],
   "source": [
    "%%R\n",
    "ggplot(iris, aes(x = Sepal.Length, y = Petal.Length)) +\n",
    "  geom_point()"
   ]
  },
  {
   "cell_type": "markdown",
   "metadata": {},
   "source": [
    "The basic idea in `ggplot2` is to map different plot aesthetics to variables in the dataset. In this plot, we map the x-axis to the variable `Sepal.Length` and the y-axis to the variable `Petal.Length`.\n",
    "\n",
    "#### Add Color\n",
    "\n",
    "Now suppose, we want to color the points based on the `Species`. `ggplot2` makes it really easy, since all you need to do is map the aesthetic `color` to the variable `Species`."
   ]
  },
  {
   "cell_type": "code",
   "execution_count": null,
   "metadata": {
    "attributes": {
     "classes": [
      "r"
     ],
     "id": ""
    }
   },
   "outputs": [],
   "source": [
    "%%R\n",
    "ggplot(iris, aes(x = Sepal.Length, y = Petal.Length)) +\n",
    "  geom_point(aes(color = Species))"
   ]
  },
  {
   "cell_type": "markdown",
   "metadata": {},
   "source": [
    "Note that I could have included the color mapping right inside the `ggplot` line, in which case this mapping would have been applicable globally through all layers. If that doesn't make any sense to you right now, don't worry, as we will get there by the end of this tutorial.\n",
    "\n",
    "#### Add Line\n",
    "\n",
    "We are interested in the relationship between `Petal.Length` and `Sepal.Length`. So, let us fit a regression line through the scatterplot. Now, before you start thinking you need to run a `lm` command and gather the predictions using `predict`, I will ask you to stop right there and read the next line of code."
   ]
  },
  {
   "cell_type": "code",
   "execution_count": null,
   "metadata": {
    "attributes": {
     "classes": [
      "r"
     ],
     "id": ""
    }
   },
   "outputs": [],
   "source": [
    "%%R\n",
    "ggplot(iris, aes(x = Sepal.Length, y = Petal.Length)) +\n",
    "  geom_point() + \n",
    "  geom_smooth(method = 'lm', se = F)"
   ]
  },
  {
   "cell_type": "markdown",
   "metadata": {},
   "source": [
    "If you are like me when the first time I ran this, you might be thinking this is voodoo! I thought so too, but apparently it is not. It is the beauty of `ggplot2` and the underlying notion of grammar of graphics.\n",
    "\n",
    "You can extend this idea further and have a regression line plotted for each `Species`."
   ]
  },
  {
   "cell_type": "code",
   "execution_count": null,
   "metadata": {
    "attributes": {
     "classes": [
      "r"
     ],
     "id": ""
    }
   },
   "outputs": [],
   "source": [
    "%%R\n",
    "ggplot(iris, aes(x = Sepal.Length, y = Petal.Length, color = Species)) +\n",
    "  geom_point() + \n",
    "  geom_smooth(method = 'lm', se = F)"
   ]
  }
 ],
 "metadata": {},
 "nbformat": 4,
 "nbformat_minor": 2
}
